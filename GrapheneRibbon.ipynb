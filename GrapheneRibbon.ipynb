{
 "cells": [
  {
   "cell_type": "markdown",
   "metadata": {},
   "source": [
    "# Graphene"
   ]
  },
  {
   "cell_type": "markdown",
   "metadata": {},
   "source": [
    "Exercise 1:\n",
    "Repeat the explorations done with a square lattice: try to answer the following questions and justify your\n",
    "sentences with graphs. To answer some of the questions you may have to explore the literature on graphene\n",
    "(with no need to go very deep, a good review or a seminal paper shall bring you all the informations).\n",
    "\n",
    "1) What is the upper limit of E which gives reasonable results? We will in the following restrict our study\n",
    "to energies below this threshold.\n",
    "\n",
    "2) What happens for E < 0? How does it compare to the case of a square lattice? Which property of\n",
    "graphene does it underline?\n",
    "\n",
    "3) How would you qualify the way transmission evolves with energy in the low density limit (the average evolution, not its\n",
    "discretization)? How does it compare to the square lattice? Which property of graphene does it underline?\n",
    "\n",
    "4) Focus on the very low energy limit of the dispersion relation, where discrete steps can be observed.\n",
    "Comment their spacing and compare with the square lattice. Which property of graphene does it underline?"
   ]
  },
  {
   "cell_type": "code",
   "execution_count": 1,
   "metadata": {},
   "outputs": [],
   "source": [
    "import kwant\n",
    "from kwant.digest import uniform    # a (deterministic) pseudorandom number generator\n",
    "import numpy as np\n",
    "import math\n",
    "from math import atan2, pi, sqrt, cos, sin\n",
    "from cmath import exp\n",
    "from types import SimpleNamespace\n",
    "import matplotlib\n",
    "from matplotlib import pyplot as plt\n",
    "\n",
    "from pylab import rcParams\n",
    "rcParams['figure.figsize'] = 5,5"
   ]
  },
  {
   "cell_type": "code",
   "execution_count": 2,
   "metadata": {},
   "outputs": [],
   "source": [
    "h = 6.626069e-34    # Planck constant (Js)\n",
    "e = 1.602e-19      # electron charge (C)\n",
    "c = 299792458       # Light celerity (m/s)\n",
    "kB = 1.3806503e-23  # Boltzmann constant (kg m2/Ks2)\n",
    "m_e = 9.1e-31       # electron mass (kg)"
   ]
  },
  {
   "cell_type": "code",
   "execution_count": 3,
   "metadata": {},
   "outputs": [],
   "source": [
    "def hopping(site_i, site_j):\n",
    "    \"\"\"\n",
    "    Definition of the hopping parameter by including the magnetic field (parameter phi)\n",
    "    \n",
    "    \"\"\"\n",
    "    \n",
    "    xi, yi = site_i.pos\n",
    "    xj, yj = site_j.pos\n",
    "    return -t * exp(-0.5j * B * (xi - xj) * (yi + yj))"
   ]
  },
  {
   "cell_type": "code",
   "execution_count": 4,
   "metadata": {},
   "outputs": [],
   "source": [
    "def make_system(a=1,W=20,L=20,t=1.0):\n",
    "    graphene = kwant.lattice.honeycomb(a,norbs=1)\n",
    "    a, b = graphene.sublattices\n",
    "    sys = kwant.Builder()\n",
    " \n",
    "    def rectangular(pos):\n",
    "        x, y = pos\n",
    "        return abs(x) < L/2 and abs(y) < W/2\n",
    "    def lead_shape(pos):\n",
    "        x, y = pos\n",
    "        return -W/2 < y < W/2\n",
    "  \n",
    "    sys[graphene.shape(rectangular, (0,0))] = onsite\n",
    "    hoppings = (((0, 0), a, b), ((0, 1), a, b), ((-1, 1), a, b))\n",
    "    sys[[kwant.builder.HoppingKind(*hopping) for hopping in hoppings]] = hopping\n",
    "\n",
    "    sym0 = kwant.TranslationalSymmetry(graphene.vec((-1, 0)))\n",
    "    lead0 = kwant.Builder(sym0)\n",
    "    lead0[graphene.shape(lead_shape, (0, 0))] = 0\n",
    "    lead0[graphene.neighbors()]= hopping\n",
    "    sys.attach_lead(lead0)\n",
    "    \n",
    "    sym1 = kwant.TranslationalSymmetry(graphene.vec((1, 0)))\n",
    "    lead1 = kwant.Builder(sym1)\n",
    "    lead1[graphene.shape(lead_shape, (0, 0))] = pot\n",
    "    lead1[graphene.neighbors()]= hopping\n",
    "    sys.attach_lead(lead1)\n",
    "\n",
    "    return sys"
   ]
  },
  {
   "cell_type": "code",
   "execution_count": 5,
   "metadata": {},
   "outputs": [],
   "source": [
    "a = 1\n",
    "W = 30\n",
    "L = 40\n",
    "t = 1\n",
    "Ef = 1\n",
    "B = 1e-2"
   ]
  },
  {
   "cell_type": "code",
   "execution_count": 6,
   "metadata": {},
   "outputs": [
    {
     "ename": "NameError",
     "evalue": "name 'onsite' is not defined",
     "output_type": "error",
     "traceback": [
      "\u001b[0;31m---------------------------------------------------------------------------\u001b[0m",
      "\u001b[0;31mNameError\u001b[0m                                 Traceback (most recent call last)",
      "\u001b[0;32m<ipython-input-6-655a6867180e>\u001b[0m in \u001b[0;36m<module>\u001b[0;34m\u001b[0m\n\u001b[1;32m      5\u001b[0m \u001b[0mEf\u001b[0m \u001b[0;34m=\u001b[0m \u001b[0;36m1\u001b[0m\u001b[0;34m\u001b[0m\u001b[0m\n\u001b[1;32m      6\u001b[0m \u001b[0mB_eff\u001b[0m \u001b[0;34m=\u001b[0m \u001b[0;36m0.1\u001b[0m\u001b[0;34m\u001b[0m\u001b[0m\n\u001b[0;32m----> 7\u001b[0;31m \u001b[0msys\u001b[0m \u001b[0;34m=\u001b[0m \u001b[0mmake_system\u001b[0m\u001b[0;34m(\u001b[0m\u001b[0ma\u001b[0m\u001b[0;34m,\u001b[0m\u001b[0mW\u001b[0m\u001b[0;34m,\u001b[0m\u001b[0mL\u001b[0m\u001b[0;34m,\u001b[0m\u001b[0mt\u001b[0m\u001b[0;34m)\u001b[0m\u001b[0;34m\u001b[0m\u001b[0m\n\u001b[0m\u001b[1;32m      8\u001b[0m \u001b[0;34m\u001b[0m\u001b[0m\n\u001b[1;32m      9\u001b[0m \u001b[0mkwant\u001b[0m\u001b[0;34m.\u001b[0m\u001b[0mplot\u001b[0m\u001b[0;34m(\u001b[0m\u001b[0msys\u001b[0m\u001b[0;34m)\u001b[0m\u001b[0;34m\u001b[0m\u001b[0m\n",
      "\u001b[0;32m<ipython-input-4-ab609ac8396f>\u001b[0m in \u001b[0;36mmake_system\u001b[0;34m(a, W, L, t)\u001b[0m\n\u001b[1;32m     11\u001b[0m         \u001b[0;32mreturn\u001b[0m \u001b[0;34m-\u001b[0m\u001b[0mW\u001b[0m\u001b[0;34m/\u001b[0m\u001b[0;36m2\u001b[0m \u001b[0;34m<\u001b[0m \u001b[0my\u001b[0m \u001b[0;34m<\u001b[0m \u001b[0mW\u001b[0m\u001b[0;34m/\u001b[0m\u001b[0;36m2\u001b[0m\u001b[0;34m\u001b[0m\u001b[0m\n\u001b[1;32m     12\u001b[0m \u001b[0;34m\u001b[0m\u001b[0m\n\u001b[0;32m---> 13\u001b[0;31m     \u001b[0msys\u001b[0m\u001b[0;34m[\u001b[0m\u001b[0mgraphene\u001b[0m\u001b[0;34m.\u001b[0m\u001b[0mshape\u001b[0m\u001b[0;34m(\u001b[0m\u001b[0mrectangular\u001b[0m\u001b[0;34m,\u001b[0m \u001b[0;34m(\u001b[0m\u001b[0;36m0\u001b[0m\u001b[0;34m,\u001b[0m\u001b[0;36m0\u001b[0m\u001b[0;34m)\u001b[0m\u001b[0;34m)\u001b[0m\u001b[0;34m]\u001b[0m \u001b[0;34m=\u001b[0m \u001b[0monsite\u001b[0m\u001b[0;34m\u001b[0m\u001b[0m\n\u001b[0m\u001b[1;32m     14\u001b[0m     \u001b[0mhoppings\u001b[0m \u001b[0;34m=\u001b[0m \u001b[0;34m(\u001b[0m\u001b[0;34m(\u001b[0m\u001b[0;34m(\u001b[0m\u001b[0;36m0\u001b[0m\u001b[0;34m,\u001b[0m \u001b[0;36m0\u001b[0m\u001b[0;34m)\u001b[0m\u001b[0;34m,\u001b[0m \u001b[0ma\u001b[0m\u001b[0;34m,\u001b[0m \u001b[0mb\u001b[0m\u001b[0;34m)\u001b[0m\u001b[0;34m,\u001b[0m \u001b[0;34m(\u001b[0m\u001b[0;34m(\u001b[0m\u001b[0;36m0\u001b[0m\u001b[0;34m,\u001b[0m \u001b[0;36m1\u001b[0m\u001b[0;34m)\u001b[0m\u001b[0;34m,\u001b[0m \u001b[0ma\u001b[0m\u001b[0;34m,\u001b[0m \u001b[0mb\u001b[0m\u001b[0;34m)\u001b[0m\u001b[0;34m,\u001b[0m \u001b[0;34m(\u001b[0m\u001b[0;34m(\u001b[0m\u001b[0;34m-\u001b[0m\u001b[0;36m1\u001b[0m\u001b[0;34m,\u001b[0m \u001b[0;36m1\u001b[0m\u001b[0;34m)\u001b[0m\u001b[0;34m,\u001b[0m \u001b[0ma\u001b[0m\u001b[0;34m,\u001b[0m \u001b[0mb\u001b[0m\u001b[0;34m)\u001b[0m\u001b[0;34m)\u001b[0m\u001b[0;34m\u001b[0m\u001b[0m\n\u001b[1;32m     15\u001b[0m     \u001b[0msys\u001b[0m\u001b[0;34m[\u001b[0m\u001b[0;34m[\u001b[0m\u001b[0mkwant\u001b[0m\u001b[0;34m.\u001b[0m\u001b[0mbuilder\u001b[0m\u001b[0;34m.\u001b[0m\u001b[0mHoppingKind\u001b[0m\u001b[0;34m(\u001b[0m\u001b[0;34m*\u001b[0m\u001b[0mhopping\u001b[0m\u001b[0;34m)\u001b[0m \u001b[0;32mfor\u001b[0m \u001b[0mhopping\u001b[0m \u001b[0;32min\u001b[0m \u001b[0mhoppings\u001b[0m\u001b[0;34m]\u001b[0m\u001b[0;34m]\u001b[0m \u001b[0;34m=\u001b[0m \u001b[0mhopping\u001b[0m\u001b[0;34m\u001b[0m\u001b[0m\n",
      "\u001b[0;31mNameError\u001b[0m: name 'onsite' is not defined"
     ]
    }
   ],
   "source": [
    "a = 1\n",
    "W = 30\n",
    "L = 20\n",
    "t = 1\n",
    "Ef = 1\n",
    "B_eff = 0.1\n",
    "sys = make_system(a,W,L,t)\n",
    "\n",
    "kwant.plot(sys)\n",
    "\n",
    "sys = make_system(a,W,L,t)\n",
    "kwant.plot(sys)\n",
    "# Finalize the system.\n",
    "graph = sys.finalized()\n",
    "kwant.plotter.bands(graph.leads[0])"
   ]
  },
  {
   "cell_type": "code",
   "execution_count": null,
   "metadata": {},
   "outputs": [],
   "source": [
    "wfs = kwant.wave_function(graph, energy=Ef) # to obtain the wave functions of the system \n",
    "\n",
    "J0 = kwant.operator.Current(graph)\n",
    "wf_left = wfs(0)\n",
    "current = sum(J0(p) for p in wf_left)\n",
    "\n",
    "kwant.plotter.current(graph, current, cmap='viridis')"
   ]
  },
  {
   "cell_type": "code",
   "execution_count": null,
   "metadata": {},
   "outputs": [],
   "source": [
    "params = SimpleNamespace(phi=phi)#, Vg=Vg, l_pot=l_pot, w_pot=w_pot, R=R, shape=shape)"
   ]
  },
  {
   "cell_type": "code",
   "execution_count": null,
   "metadata": {},
   "outputs": [],
   "source": [
    "\"\"\" The wavelength must be (much more) larger than the lattice parameter \"\"\"\n",
    "lambda_F = 3 * pi * a * t / Ef # computation of the wavelength in graphene\n",
    "print('Fermi wavelength: ', lambda_F)\n",
    "if lambda_F/a < 2:\n",
    "    print('Warning : lambda_F must be larger than the lattice parameter a')"
   ]
  },
  {
   "cell_type": "code",
   "execution_count": null,
   "metadata": {},
   "outputs": [],
   "source": [
    "wfs = kwant.wave_function(sys, energy=Ef) # to obtain the wave functions of the system \n",
    "\n",
    "J0 = kwant.operator.Current(sys)\n",
    "wf_left = wfs(0)\n",
    "current = sum(J0(p) for p in wf_left)\n",
    "\n",
    "kwant.plotter.current(sys, current, cmap='viridis')"
   ]
  },
  {
   "cell_type": "code",
   "execution_count": null,
   "metadata": {},
   "outputs": [],
   "source": [
    "N = 20 # number of magnetic field values\n",
    "B_eff_max = 0.2 # higher magnetic field\n",
    "B_effs = np.linspace(0, B_eff_max, N) # vector of the magnetic fields\n",
    "\n",
    "G = np.zeros([N,1])\n",
    "\n",
    "for i,B_eff in enumerate(B_effs):\n",
    "    params = SimpleNamespace(B_eff=B_eff)\n",
    "    smatrix = kwant.smatrix(sys, energy = Ef) # transmission matrix (here this)\n",
    "    T = smatrix.transmission(1, 0) # transmission value obtained from the left lead towards the right lead\n",
    "    G[i] = T\n",
    "    \n",
    "plt.plot(B_effs,G)\n",
    "\n",
    "plt.xlabel('Magnetic field (T)')\n",
    "plt.ylabel('Transmission (2e²/h)')\n",
    "\n",
    "plt.show()"
   ]
  },
  {
   "cell_type": "code",
   "execution_count": null,
   "metadata": {},
   "outputs": [],
   "source": [
    "pyplot.plot(E,Gr)\n",
    "\n",
    "pyplot.xlabel('Energy (t)', fontsize=18)\n",
    "pyplot.ylabel('Transmission', fontsize=18)"
   ]
  },
  {
   "cell_type": "markdown",
   "metadata": {},
   "source": [
    "Answers:\n",
    "\n",
    "1) For energies above t (t=1 here), the conductance starts to decrease whereas we still increase the carrier density, which is not physical. Once again, we leave tight binding approximationfor high energies."
   ]
  },
  {
   "cell_type": "markdown",
   "metadata": {},
   "source": [
    "2) For negative energies, we the conductance is non zero and re-increases. This is due to the fact that grahene has no gap, which differs from the square lattice. Graphene is often called a gapless semiconductor or semi-metal."
   ]
  },
  {
   "cell_type": "code",
   "execution_count": null,
   "metadata": {},
   "outputs": [],
   "source": [
    "# Let's make a larger system.\n",
    "a = 5\n",
    "W = 300\n",
    "L = 20\n",
    "t = 1\n",
    "sys = make_system(a,W,L,t)\n",
    "kwant.plot(sys)\n",
    "graph = sys.finalized()\n",
    "N = 60\n",
    "E = np.linspace(-0.5,0.5,N)\n",
    "Gr = np.zeros([N,1])\n",
    "for i,Ef in enumerate(E):\n",
    "    smatrix = kwant.smatrix(graph, energy = Ef)\n",
    "    T = smatrix.transmission(1, 0)\n",
    "    Gr[i] = T"
   ]
  },
  {
   "cell_type": "code",
   "execution_count": null,
   "metadata": {},
   "outputs": [],
   "source": [
    "N = 20\n",
    "B_eff_max = 0.2 # higher magnetic field\n",
    "B_effs = np.linspace(0, B_eff_max, N) # vector of the magnetic fields\n",
    "for B_eff in B_effs:\n",
    "    print('Effective magnetic field : ', B_eff)\n",
    "    phi = B_eff * a\n",
    "    params = SimpleNamespace(B_eff=B_eff)\n",
    "    wfs = kwant.wave_function(sys, energy=Ef)\n",
    "    scattering_wf = wfs(0)  # all scattering wave functions from lead 0\n",
    "    kwant.plotter.map(sys, np.sum(abs(scattering_wf)**2, axis=0));\n",
    "    \n",
    "    wf_left = wfs(0)\n",
    "    current = sum(J0(p) for p in wf_left) # to sum over all the lead's mode\n",
    "    kwant.plotter.current(sys, current, cmap='viridis')"
   ]
  },
  {
   "cell_type": "code",
   "execution_count": null,
   "metadata": {},
   "outputs": [],
   "source": [
    "N = 50\n",
    "E = np.linspace(-1.5,1.5,N)\n",
    "Gr = np.zeros([N,1])\n",
    "for i,Ef in enumerate(E):\n",
    "    smatrix = kwant.smatrix(graph, energy = Ef)\n",
    "    T = smatrix.transmission(1, 0)\n",
    "    Gr[i] = T"
   ]
  },
  {
   "cell_type": "code",
   "execution_count": null,
   "metadata": {},
   "outputs": [],
   "source": [
    "pyplot.plot(E,Gr)\n",
    "\n",
    "pyplot.xlabel('Energy (t)', fontsize=18)\n",
    "pyplot.ylabel('Transmission', fontsize=18)\n",
    "pl"
   ]
  }
 ],
 "metadata": {
  "kernelspec": {
   "display_name": "Python 3",
   "language": "python",
   "name": "python3"
  },
  "language_info": {
   "codemirror_mode": {
    "name": "ipython",
    "version": 3
   },
   "file_extension": ".py",
   "mimetype": "text/x-python",
   "name": "python",
   "nbconvert_exporter": "python",
   "pygments_lexer": "ipython3",
   "version": "3.6.6"
  }
 },
 "nbformat": 4,
 "nbformat_minor": 1
}
