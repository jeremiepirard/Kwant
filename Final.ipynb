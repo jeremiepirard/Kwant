{
 "cells": [
  {
   "cell_type": "code",
   "execution_count": 29,
   "metadata": {},
   "outputs": [],
   "source": [
    "import kwant\n",
    "from kwant.digest import uniform    # a (deterministic) pseudorandom number generator\n",
    "import numpy as np\n",
    "import math\n",
    "from math import atan2, pi, sqrt, cos, sin\n",
    "from cmath import exp\n",
    "from types import SimpleNamespace\n",
    "import matplotlib\n",
    "from matplotlib import pyplot as plt\n",
    "\n",
    "from pylab import rcParams\n",
    "rcParams['figure.figsize'] = 5,5"
   ]
  },
  {
   "cell_type": "code",
   "execution_count": 30,
   "metadata": {},
   "outputs": [],
   "source": [
    "h = 6.626069e-34    # Planck constant (Js)\n",
    "e = 1.602e-19      # electron charge (C)\n",
    "c = 299792458       # Light celerity (m/s)\n",
    "kB = 1.3806503e-23  # Boltzmann constant (kg m2/Ks2)\n",
    "m_e = 9.1e-31       # electron mass (kg)\n",
    "h_bar = h/(2*math.pi)"
   ]
  },
  {
   "cell_type": "code",
   "execution_count": 31,
   "metadata": {},
   "outputs": [],
   "source": [
    "def onsite(site):\n",
    "    \"\"\"\n",
    "    potentiel de jonction pp\n",
    "    \"\"\"\n",
    "    \n",
    "    (x, y) = site.pos\n",
    "    d = y * np.cos(60) + x * np.sin(60)\n",
    "    if w == 0:\n",
    "            return pot\n",
    "    else:\n",
    "        return pot * np.tanh(d / w)"
   ]
  },
  {
   "cell_type": "code",
   "execution_count": 5,
   "metadata": {},
   "outputs": [],
   "source": [
    "def hopping(site_i, site_j):\n",
    "    \"\"\"\n",
    "    Definition of the hopping parameter by including the magnetic field (parameter phi)\n",
    "    \n",
    "    \"\"\"\n",
    "    \n",
    "    xi, yi = site_i.pos\n",
    "    xj, yj = site_j.pos\n",
    "    return -t * exp(-1j * np.pi * phi / (h/e) * (xi - xj) * (yi + yj)/alat**2)"
   ]
  },
  {
   "cell_type": "code",
   "execution_count": 6,
   "metadata": {},
   "outputs": [],
   "source": [
    "def make_system(alat=1,W=1,L=1,t=1.0, h_l= 10, w_l=10,d_armEdge=10):\n",
    "    graphene = kwant.lattice.honeycomb(alat,norbs=1)\n",
    "    a, b = graphene.sublattices\n",
    "    sys = kwant.Builder()\n",
    " \n",
    "    def rectangular(pos):\n",
    "        x, y = pos\n",
    "        if (L-h_l)/2 < abs(y) < (L)/2:\n",
    "            return abs(y) < (L)/2 and abs(x) < (W+w_l)/2\n",
    "        return abs(x) < (W)/2 and abs(y) < (L+d_armEdge)/2 \n",
    "    def lead_shape1(pos):\n",
    "        x, y = pos\n",
    "        return (L-h_l)/2 < abs(y) < L/2\n",
    "  \n",
    "    def lead_shape2(pos):\n",
    "        x, y = pos\n",
    "        return -W/2 < x < W/2\n",
    "    \n",
    "   \n",
    "    \n",
    "    sys[graphene.shape(rectangular, (0,0))] = onsite\n",
    "    hoppings = (((0, 0), a, b), ((0, 1), a, b), ((-1, 1), a, b))\n",
    "    sys[[kwant.builder.HoppingKind(*hopping) for hopping in hoppings]] = hopping\n",
    "\n",
    "    sym0 = kwant.TranslationalSymmetry(graphene.vec((-1, 0)))\n",
    "    lead0 = kwant.Builder(sym0)\n",
    "    lead0[graphene.shape(lead_shape1, (0, L/2))] = -pot\n",
    "    lead0[graphene.neighbors()]= hopping\n",
    "    sys.attach_lead(lead0)\n",
    "    sys.attach_lead(lead0.reversed())\n",
    "   # sys.attach_lead(lead0.reversed())\n",
    "    \n",
    "    sym1 = kwant.TranslationalSymmetry(graphene.vec((-1, 0)))\n",
    "    lead1 = kwant.Builder(sym1)\n",
    "    lead1[graphene.shape(lead_shape1, (0, -L/2))] = pot\n",
    "    lead1[graphene.neighbors()]= hopping\n",
    "    sys.attach_lead(lead1)\n",
    "    sys.attach_lead(lead1.reversed())\n",
    "    \n",
    "    return sys"
   ]
  },
  {
   "cell_type": "code",
   "execution_count": 27,
   "metadata": {},
   "outputs": [
    {
     "name": "stdout",
     "output_type": "stream",
     "text": [
      "0.027999999999999997\n",
      "100\n"
     ]
    },
    {
     "data": {
      "image/png": "[encoded data removed]",
      "text/plain": [
       "<Figure size 432x288 with 1 Axes>"
      ]
     },
     "metadata": {
      "needs_background": "light"
     },
     "output_type": "display_data"
    },
    {
     "name": "stdout",
     "output_type": "stream",
     "text": [
      "933422.9986688384\n"
     ]
    }
   ],
   "source": [
    "a0 = 0.142e-9  # réel\n",
    "sf = 100 #scaling factor\n",
    "alat = sf*a0 #scaled lattice factor\n",
    "t0 = 2.8 ; #true hopping energy\n",
    "\n",
    "\n",
    "t = t0/sf \n",
    "W = 5e-7; L = 10e-7 # width and length of the electronic system: ordre de dimension 10e-7\n",
    "\n",
    "np = 0.5e16\n",
    "Ef = (3/2) * t * (alat) * math.sqrt(math.pi*np) # Fermi energy computed from the electronic density\n",
    "#Ef = 0.1\n",
    "#Ef = 2*np.pi * t * (a * 1e-9)**2 * n2D # Fermi energy computed from the electronic density\n",
    "h_l = 3e-7 ; w_l = 1e-7 ; d_armEdge =1.5e-7 \n",
    "print(sf)\n",
    "w = 0\n",
    "junctionType = 'pp'\n",
    "pot= 0 # Valeur du potentiel\n",
    "\n",
    "sys = make_system(alat,W,L,t, h_l, w_l,d_armEdge)\n",
    "\n",
    "\n",
    "sys = sys.finalized()\n",
    "kwant.plot(sys, site_size=alat)\n",
    "B_coef = 4*2*h_bar*math.sqrt(math.pi)/(e*L)*10e13\n",
    "print(B_coef)\n",
    "#ok"
   ]
  },
  {
   "cell_type": "code",
   "execution_count": 28,
   "metadata": {},
   "outputs": [
    {
     "name": "stdout",
     "output_type": "stream",
     "text": [
      "Fermi wavelength:  5.013256549262001e-08\n",
      "Scaled lattice parameter:  1.42e-08\n",
      "Fermi energy Ef:  0.07474765514949643\n",
      "Scaled hopping energy:  0.027999999999999997\n",
      "Warning : Ef must be smaller than (1/2)t\n"
     ]
    }
   ],
   "source": [
    "\"\"\" The wavelength must be (much more) larger than the lattice parameter \"\"\"\n",
    "lambda_F = 3 * pi * alat * t / Ef # computation of the wavelength in graphene\n",
    "print('Fermi wavelength: ', lambda_F)\n",
    "print('Scaled lattice parameter: ', alat)\n",
    "if lambda_F/alat < 2:\n",
    "    print('Warning : lambda_F must be larger than the lattice parameter alat')\n",
    "    \n",
    "\"\"\" We must be at low energy density at the level of the Dirac cone \"\"\"\n",
    "print('Fermi energy Ef: ', Ef)\n",
    "print('Scaled hopping energy: ', t)\n",
    "if Ef/t > (1/2):\n",
    "    print('Warning : Ef must be smaller than (1/2)t')"
   ]
  },
  {
   "cell_type": "code",
   "execution_count": 7,
   "metadata": {},
   "outputs": [
    {
     "ename": "NameError",
     "evalue": "name 'B' is not defined",
     "output_type": "error",
     "traceback": [
      "\u001b[0;31m---------------------------------------------------------------------------\u001b[0m",
      "\u001b[0;31mNameError\u001b[0m                                 Traceback (most recent call last)",
      "\u001b[0;32m<ipython-input-7-548fd1e28e0d>\u001b[0m in \u001b[0;36m<module>\u001b[0;34m\u001b[0m\n\u001b[1;32m      1\u001b[0m \u001b[0;31m### G3 = np.zeros(N)\u001b[0m\u001b[0;34m\u001b[0m\u001b[0;34m\u001b[0m\u001b[0m\n\u001b[1;32m      2\u001b[0m \u001b[0mp\u001b[0m \u001b[0;34m=\u001b[0m \u001b[0;36m0.1\u001b[0m\u001b[0;34m\u001b[0m\u001b[0m\n\u001b[0;32m----> 3\u001b[0;31m \u001b[0mB_eff\u001b[0m \u001b[0;34m=\u001b[0m \u001b[0mB\u001b[0m\u001b[0;34m\u001b[0m\u001b[0m\n\u001b[0m\u001b[1;32m      4\u001b[0m \u001b[0mamp\u001b[0m \u001b[0;34m=\u001b[0m \u001b[0mnp\u001b[0m\u001b[0;34m.\u001b[0m\u001b[0mlinspace\u001b[0m\u001b[0;34m(\u001b[0m\u001b[0;36m1e-3\u001b[0m\u001b[0;34m,\u001b[0m\u001b[0;36m6e-2\u001b[0m\u001b[0;34m,\u001b[0m\u001b[0mN\u001b[0m\u001b[0;34m)\u001b[0m\u001b[0;34m\u001b[0m\u001b[0m\n\u001b[1;32m      5\u001b[0m \u001b[0mG2\u001b[0m \u001b[0;34m=\u001b[0m  \u001b[0mG3\u001b[0m \u001b[0;34m=\u001b[0m  \u001b[0mM2\u001b[0m \u001b[0;34m=\u001b[0m\u001b[0mM3\u001b[0m \u001b[0;34m=\u001b[0m \u001b[0mnp\u001b[0m\u001b[0;34m.\u001b[0m\u001b[0mzeros\u001b[0m\u001b[0;34m(\u001b[0m\u001b[0mN\u001b[0m\u001b[0;34m)\u001b[0m\u001b[0;34m\u001b[0m\u001b[0m\n",
      "\u001b[0;31mNameError\u001b[0m: name 'B' is not defined"
     ]
    }
   ],
   "source": [
    "### G3 = np.zeros(N)\n",
    "p = 0.1\n",
    "B_eff = B\n",
    "amp = np.linspace(1e-3,6e-2,N)\n",
    "G2 =  G3 =  M2 =M3 = np.zeros(N)\n",
    "s = 0.2\n",
    "p = 0.4\n",
    "B=0\n",
    "for i,po in enumerate(Field):\n",
    "            B = p0\n",
    "            params = SimpleNamespace(B_eff=B_eff)\n",
    "            smatrix = kwant.smatrix(sys, energy = Ef) # transmission matrix (here this)\n",
    "            T2 = smatrix.transmission(2,0)\n",
    "            T3 = smatrix.transmission(3,0)# transmission value obtained from the left lead towards the right lead\n",
    "            G2[i] = T2\n",
    "            G3[i] = T3\n",
    "plt.plot(Field,G2, label=\"Inf. gauche, Ef =\"+str(Ef))\n",
    "plt.plot(Field,G3, label=\"Inf. droit, Ef =\"+str(Ef))\n",
    "\n",
    "plt.xlabel('d')\n",
    "plt.ylabel('Transmission')\n",
    "plt.title(\"Transmission, jonction pn', s=\"+str(s))\n",
    "plt.legend()\n",
    "plt.show()"
   ]
  },
  {
   "cell_type": "code",
   "execution_count": null,
   "metadata": {},
   "outputs": [],
   "source": [
    "vals=[onsite(sys.sites[n]) for n in range(sys.graph.num_nodes)]\n",
    "kwant.plotter.map(sys, vals)"
   ]
  },
  {
   "cell_type": "code",
   "execution_count": null,
   "metadata": {},
   "outputs": [],
   "source": [
    "def plot_transmission(sys, Ef):# params):\n",
    "    # Compute conductance\n",
    "    trans = []\n",
    "    smatrix = kwant.smatrix(sys, Ef)\n",
    "    trans.append(smatrix.transmission(3, 0))\n",
    "    plt.plot(B, trans)\n",
    "    #ok"
   ]
  },
  {
   "cell_type": "code",
   "execution_count": null,
   "metadata": {},
   "outputs": [],
   "source": [
    "B = 0.0\n",
    "phi = B * 3*np.sqrt(3)/(2) * alat**2\n",
    "wfs = kwant.wave_function(sys, energy=Ef) # to obtain the wave functions of the system \n",
    "#de = kwant.operator.Density(sys)\n",
    "J0 = kwant.operator.Current(sys)\n",
    "wf_left = wfs(0)\n",
    "current = sum(J0(p) for p in wf_left)\n",
    "#density = sum(de(p) for p in wf_left)\n",
    "#kwant.plotter.density(graph, density)\n",
    "kwant.plotter.current(sys, current, cmap='viridis');"
   ]
  },
  {
   "cell_type": "code",
   "execution_count": null,
   "metadata": {},
   "outputs": [],
   "source": [
    "B = 0.1\n",
    "#phi = B * 3*np.sqrt(3)/(2)*alat**2\n",
    "#kwant.plotter.bands(sys.leads[0]);\n",
    "\n",
    "Field = np.linspace(0, B, 15)\n",
    "trans = []\n",
    "for A in Field:\n",
    "    phi = A * 3*np.sqrt(3)/(2)*alat**2\n",
    "    smatrix = kwant.smatrix(sys, Ef)\n",
    "    trans.append(smatrix.transmission(1, 0))\n",
    "    \"\"\" The scaling factor must be (much more) smaller than the magnetic length over the real lattice parameter \"\"\"\n",
    "    print('Scaling factor: ', sf)\n",
    "    print('Magnetic length over the real lattice parameter: ', 180/np.sqrt(A))\n",
    "    if sf > (1/4) * (180/np.sqrt(A)):\n",
    "        print('Warning : sf must be larger than l_B/ao')\n",
    "plt.plot(Field,trans)\n",
    "plt.xlabel('Magnetic field (T)')\n",
    "plt.ylabel('Transmission (2e²/h)')\n",
    "plt.show()"
   ]
  },
  {
   "cell_type": "code",
   "execution_count": null,
   "metadata": {
    "scrolled": false
   },
   "outputs": [],
   "source": [
    "Field = np.linspace(0, B, 15)\n",
    "for A in Field:\n",
    "    B = A\n",
    "    phi = A * 3*np.sqrt(3)/(2)*alat**2\n",
    "    wfs = kwant.wave_function(sys, energy=Ef) # to obtain the wave functions of the system \n",
    "    de = kwant.operator.Density(sys)\n",
    "    J0 = kwant.operator.Current(sys)\n",
    "    wf_left = wfs(0)\n",
    "    current = sum(J0(p) for p in wf_left)\n",
    "    density = sum(de(p) for p in wf_left)\n",
    "        #kwant.plotter.density(graph, density)\n",
    "    print(B)\n",
    "    kwant.plotter.current(sys, current, cmap='viridis');"
   ]
  },
  {
   "cell_type": "code",
   "execution_count": null,
   "metadata": {},
   "outputs": [],
   "source": []
  },
  {
   "cell_type": "code",
   "execution_count": null,
   "metadata": {},
   "outputs": [],
   "source": []
  }
 ],
 "metadata": {
  "kernelspec": {
   "display_name": "Python 3",
   "language": "python",
   "name": "python3"
  },
  "language_info": {
   "codemirror_mode": {
    "name": "ipython",
    "version": 3
   },
   "file_extension": ".py",
   "mimetype": "text/x-python",
   "name": "python",
   "nbconvert_exporter": "python",
   "pygments_lexer": "ipython3",
   "version": "3.6.6"
  }
 },
 "nbformat": 4,
 "nbformat_minor": 2
}
