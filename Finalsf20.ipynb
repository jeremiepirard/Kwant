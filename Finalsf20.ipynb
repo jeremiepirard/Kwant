{
 "cells": [
  {
   "cell_type": "markdown",
   "metadata": {},
   "source": [
    "# Code "
   ]
  },
  {
   "cell_type": "code",
   "execution_count": 2,
   "metadata": {},
   "outputs": [],
   "source": [
    "import kwant\n",
    "from kwant.digest import uniform    # a (deterministic) pseudorandom number generator\n",
    "import numpy as np\n",
    "import math\n",
    "from math import atan2, pi, sqrt, cos, sin, tanh\n",
    "from cmath import exp\n",
    "from types import SimpleNamespace\n",
    "import matplotlib\n",
    "from matplotlib import pyplot as plt\n",
    "from ipywidgets import interact\n",
    "from matplotlib import ticker, cm\n",
    "import time\n",
    "\n",
    "from pylab import rcParams\n",
    "rcParams['figure.figsize'] = 5,5"
   ]
  },
  {
   "cell_type": "code",
   "execution_count": 3,
   "metadata": {},
   "outputs": [],
   "source": [
    "h = 6.626069e-34    # Planck constant (Js)\n",
    "e = 1.602e-19      # electron charge (C)\n",
    "c = 299792458       # Light celerity (m/s)\n",
    "kB = 1.3806503e-23  # Boltzmann constant (kg m2/Ks2)\n",
    "m_e = 9.1e-31       # electron mass (kg)\n",
    "h_bar = h/(2*math.pi)\n",
    "phi_0 = h/e #quantum de flux\n",
    "k=0"
   ]
  },
  {
   "cell_type": "markdown",
   "metadata": {},
   "source": [
    "## Système de simulation"
   ]
  },
  {
   "cell_type": "markdown",
   "metadata": {},
   "source": [
    "Ici nous avons implémenté une jonction PP ou PN. La largeur de la zone de dépletion est contrôlée par une fonction\n",
    "tangeante hyperbolique avec le paramètre $w$. La densité dans la deuxième zone est contrôlée par la variable n. Ses différentes valeurs sont détaillées dans les commentaires ci-dessous nous."
   ]
  },
  {
   "cell_type": "code",
   "execution_count": 5,
   "metadata": {},
   "outputs": [],
   "source": [
    "def onsite(site):\n",
    "    \"\"\"\n",
    "    potentiel de jonction pp\n",
    "    \"\"\"\n",
    "    \n",
    "    (x, y) = site.pos\n",
    "    eta = -((y/10e-9)+1)\n",
    "\n",
    "    if w == 0:\n",
    "            return 0\n",
    "    else:\n",
    "        return -abs(Ef)*n/2*(math.tanh(eta*w)+ 1 )\n",
    "    '''\n",
    "    Jonction pp' (p'<p)\n",
    "    0<n<1\n",
    "    (p'>p)\n",
    "    n>0\n",
    "    \n",
    "    Jonction pn'\n",
    "    n<1\n",
    "    \n",
    "    Jonction pn\n",
    "    n=2\n",
    "    w = pente\n",
    "    '''"
   ]
  },
  {
   "cell_type": "markdown",
   "metadata": {},
   "source": [
    "Pour rendre compte du champ magnétique, nous avons utilisé la substitution de Peier, dans le modèle \"tight-binding\""
   ]
  },
  {
   "cell_type": "code",
   "execution_count": 6,
   "metadata": {},
   "outputs": [],
   "source": [
    "def hopping(site_i, site_j):\n",
    "    \"\"\"\n",
    "    Definition of the hopping parameter by including the magnetic field (parameter phi)\n",
    "\n",
    "    \"\"\"\n",
    "\n",
    "    xi, yi = site_i.pos\n",
    "    xj, yj = site_j.pos\n",
    "    delta = (xi - xj) * (yi + yj)\n",
    "    return -t * exp(-1j * math.pi * (phi/phi_0)* delta /( 3*np.sqrt(3)/(2) *alat**2))"
   ]
  },
  {
   "cell_type": "markdown",
   "metadata": {},
   "source": [
    "Le champ magnétique induit un changement de phase proportionnel au potentiel vecteur A, lors d'un saut entre sites $i$ et $j$:\n",
    "\n",
    "$$t_{ij} \\rightarrow t_{ij} \\times \\exp\\left(i \\frac{e}{\\hbar} \\int_{\\mathbf{x}_j}^{\\mathbf{x}_i} \\mathbf{A}(\\mathbf{x}) d\\mathbf{s}\\right)$$\n",
    "\n",
    "Pour un champ selon l'axe z dans notre modèle bi-dimensionnel, l'intégrale devient:\n",
    "\n",
    "$$\\exp\\left(i\\, \\frac{e}{\\hbar} B \\frac{(y_i + y_j)}{2} (x_i-x_j)\\right)$$\n",
    "\n",
    "\n",
    "\n",
    "$$\\exp\\left(i\\, 2 \\pi \\frac{\\phi}{\\phi_0} \\frac{(y_i + y_j)(x_i-x_j)}{A_{lattice}} \\right)$$\n",
    "\n",
    "avec  $\\phi = B A_{lattice}^2$, flux magnétique à travers un \"hexagone\" et $\\phi_0 = h/e$ le quantum de flux."
   ]
  },
  {
   "cell_type": "markdown",
   "metadata": {},
   "source": [
    "## Système numérique"
   ]
  },
  {
   "cell_type": "markdown",
   "metadata": {},
   "source": [
    "Notre principale difficulté fut de construire un système cohérent avec le dispositif expérimental de l article en conservant un temps raisonnable de simulation en ne mettant pas trop de sites. Pour cela, nous avons du introduire un facteur d'échelle, qui nous permet d'augmenter la taille du système. En effet, nous utilisons un graphène théorique où la distance $a$ séparant deux sites serait multipliée par ce facteur $sf$. Nous devons donc également  modifier l'énergie de saut de la sorte:\n",
    "$$a = s_fa_0$$\n",
    "$$t = \\frac{t_0}{sf}$$\n",
    "\n",
    "Pour conserver une certaine cohérence, nous avons choisi de diviser également l'énergie de Fermi des électrons par ce facteur, ceci afin de rester dans un régime ballistique. Finalement, nous avons un système de l'ordre du centième de micron. En comparaison le système expérimental est de l'ordre du micron. \n",
    "\n",
    "Nous avons également attaché 4 leads au système. Les électrons sont envoyés depuis le lead supérieur droit. La structure et le champ magnétique détermineront l'endroit d'arrivée des électrons. Les leads ne doivent pas être trop fins, sans quoi le nombre de modes électroniques \n",
    "\n",
    "L'énergie de fermi est calculée d'après sa formule, reliant la densité de porteurs dans le graphène à l'énergie:\n",
    "$$n_s = (E/at)^{2}\\frac{8}{9π} $$\n",
    "Cependant, nous ne sommes pas libre de choisir nos densités de manière arbitraire. En effet, la condition:\n",
    "$$\\lambda_f <<< a$$\n",
    "Induit une condition sur l'énergie du système:\n",
    "$$|E_f| <<< \\frac{3 \\pi t_0}{s_f}$$\n",
    "\n",
    "Nous n'avons donc pas pu utiliser les densités du système car elles donnaient une énergie trop grande. Etant donné le sens arbitraire de la conditon <<<<, il a fallu procéder à une analyse ad-hoc. Nous avons finalement retenu les énergies donnant lieu à un régime ballistique, ceci en analysant les densités de courant."
   ]
  },
  {
   "cell_type": "code",
   "execution_count": 7,
   "metadata": {},
   "outputs": [],
   "source": [
    "def make_system(alat=1,W=1,L=1,t=1.0, h_l= 10, w_l=10,d_armEdge=10):\n",
    "    graphene = kwant.lattice.honeycomb(alat,norbs=1)\n",
    "    a, b = graphene.sublattices\n",
    "    sys = kwant.Builder()\n",
    " \n",
    "    def rectangular(pos):\n",
    "        x, y = pos\n",
    "        if (L-h_l)/2 < abs(y) < (L)/2:\n",
    "            return abs(y) < (L)/2 and abs(x) < (W+w_l)/2\n",
    "        return abs(x) < (W)/2 and abs(y) < (L+d_armEdge)/2 \n",
    "    def lead_shape1(pos):\n",
    "        x, y = pos\n",
    "        return (L-h_l)/2 < abs(y) < L/2\n",
    "  \n",
    "    def lead_shape2(pos):\n",
    "        x, y = pos\n",
    "        return -W/2 < x < W/2\n",
    "    \n",
    "   \n",
    "    \n",
    "    sys[graphene.shape(rectangular, (0,0))] = onsite\n",
    "    hoppings = (((0, 0), a, b), ((0, 1), a, b), ((-1, 1), a, b))\n",
    "    sys[[kwant.builder.HoppingKind(*hopping) for hopping in hoppings]] = hopping\n",
    "\n",
    "    sym0 = kwant.TranslationalSymmetry(graphene.vec((-1, 0)))\n",
    "    lead0 = kwant.Builder(sym0)\n",
    "    lead0[graphene.shape(lead_shape1, (0, L/2))] = -pot\n",
    "    lead0[graphene.neighbors()]= hopping\n",
    "    sys.attach_lead(lead0)\n",
    "    #sys.attach_lead(lead0.reversed())\n",
    "    sys.attach_lead(lead0.reversed())\n",
    "    \n",
    "    sym1 = kwant.TranslationalSymmetry(graphene.vec((-1, 0)))\n",
    "    lead1 = kwant.Builder(sym1)\n",
    "    lead1[graphene.shape(lead_shape1, (0, -L/2))] = -pot\n",
    "    lead1[graphene.neighbors()]= hopping\n",
    "    sys.attach_lead(lead1)\n",
    "    sys.attach_lead(lead1.reversed())\n",
    "    \n",
    "    return sys"
   ]
  },
  {
   "cell_type": "markdown",
   "metadata": {},
   "source": []
  },
  {
   "cell_type": "markdown",
   "metadata": {},
   "source": [
    "### Valeurs et constantes"
   ]
  },
  {
   "cell_type": "code",
   "execution_count": 9,
   "metadata": {},
   "outputs": [
    {
     "data": {
      "image/png": "[encoded data removed]",
      "text/plain": [
       "<Figure size 432x288 with 2 Axes>"
      ]
     },
     "metadata": {
      "needs_background": "light"
     },
     "output_type": "display_data"
    },
    {
     "data": {
      "image/png": "[encoded data removed]",
      "text/plain": [
       "<Figure size 432x288 with 1 Axes>"
      ]
     },
     "metadata": {
      "needs_background": "light"
     },
     "output_type": "display_data"
    }
   ],
   "source": [
    "#Constants and system parameters\n",
    "\n",
    "a0 = 0.142e-9  # lattice parameter\n",
    "sf = 20 #scaling factor\n",
    "alat = sf*a0 #scaled lattice factor\n",
    "t0 = 2.8 ; #true hopping energy\n",
    "t = t0/sf #scaled hopping energy\n",
    "W = 7e-9*sf; L = 10e-9*sf # width and length of the electronic system: ordre de dimension 10e-7\n",
    "\n",
    "N_p = -19.5e16 #carrier densité (1/m²)\n",
    "Ef = -(3/2) * t * (alat) * np.sqrt(abs(np.pi*N_p))/sf #Fermi energy in graphene regarding electronic density\n",
    "h_l = 5e-9*sf ; w_l = 0*sf ; d_armEdge =2e-9*sf #paramètres des noeuds\n",
    "\n",
    "\n",
    "w=1 \n",
    "sys = make_system(alat,W,L,t, h_l, w_l,d_armEdge)\n",
    "n= -2\n",
    "kwant.plotter.map(sys, onsite)\n",
    "sys = sys.finalized()\n",
    "\n",
    "kwant.plot(sys, site_size=alat)\n",
    "B_coef = 4*2*h_bar*math.sqrt(math.pi)/(e*L)*10e13\n",
    "Field = np.linspace(0, -1, 50)\n"
   ]
  },
  {
   "cell_type": "markdown",
   "metadata": {},
   "source": [
    "Ci dessus, le plan du système ainsi que la représentation graphique de la densité de porteurs sur le site."
   ]
  },
  {
   "cell_type": "markdown",
   "metadata": {},
   "source": [
    "### Energies"
   ]
  },
  {
   "cell_type": "code",
   "execution_count": 11,
   "metadata": {},
   "outputs": [
    {
     "name": "stdout",
     "output_type": "stream",
     "text": [
      "Fermi wavelength:  -1.6055270315691722e-07\n",
      "Scaled lattice parameter:  2.84e-09\n",
      "Warning : lambda_F must be larger than the lattice parameter alat\n",
      "Fermi energy Ef:  -0.023339947839678944 eV\n",
      "Maximal energy according to the scalable model : 1.319468914507713\n",
      "Scaled hopping energy:  0.13999999999999999 eV\n"
     ]
    }
   ],
   "source": [
    "\"\"\" The wavelength must be (much more) larger than the lattice parameter \"\"\"\n",
    "lambda_F = 3 * pi * alat * t / Ef # computation of the wavelength in graphene\n",
    "print('Fermi wavelength: ', lambda_F)\n",
    "print('Scaled lattice parameter: ', alat)\n",
    "if lambda_F/alat < 2:\n",
    "    print('Warning : lambda_F must be larger than the lattice parameter alat')\n",
    "    \n",
    "\"\"\" We must be at low energy density at the level of the Dirac cone \"\"\"\n",
    "print('Fermi energy Ef: ', Ef, \"eV\")\n",
    "print('Maximal energy according to the scalable model :', 3*t0*math.pi/sf)\n",
    "print('Scaled hopping energy: ', t, 'eV')\n",
    "if abs(Ef/t) > (1/2):\n",
    "    print('Warning : Ef must be smaller than (1/2)t')"
   ]
  },
  {
   "cell_type": "markdown",
   "metadata": {},
   "source": [
    "## MAP (différence de transmission)"
   ]
  },
  {
   "cell_type": "markdown",
   "metadata": {},
   "source": [
    "In order to see resonant path, we need to compute the non-local resistance between (in arbitrary units) the two leads in the second part of the system. Resistance extrema correspond to a resonant state, in respect to magnetic field and carrier density. \n",
    "\n",
    "To compute the non-local resistance, we have to compute the S-matrix then the conductance matrix, thanks to the kwant function $conductance_matrix$. Because we have 4 leads, we eliminate a column and a ligne. This sets the voltage in the last lead to zero. Then we set the current flowing from lead 0 (start lead) to lead 1 (the opposite), and compute the voltage in lead 3. This will give us the tension between the two terminal leads, as V4 = 0. Then we have the non-local resistance, in arbitrary units. \n"
   ]
  },
  {
   "cell_type": "code",
   "execution_count": 120,
   "metadata": {},
   "outputs": [
    {
     "name": "stdout",
     "output_type": "stream",
     "text": [
      "Temps écoulé:  0.0002377033233642578\n",
      "0.0 %\n",
      "Temps écoulé:  60.7985520362854\n",
      "1.0 %\n",
      "Temps écoulé:  124.85430693626404\n",
      "2.0 %\n",
      "Temps écoulé:  187.61331605911255\n",
      "3.0 %\n",
      "Temps écoulé:  251.82158994674683\n",
      "4.0 %\n",
      "Temps écoulé:  315.95918464660645\n",
      "5.0 %\n",
      "Temps écoulé:  378.5776536464691\n",
      "6.0 %\n",
      "Temps écoulé:  442.13749718666077\n",
      "7.0 %\n",
      "Temps écoulé:  507.2776458263397\n",
      "8.0 %\n",
      "Temps écoulé:  571.2151701450348\n",
      "9.0 %\n",
      "Temps écoulé:  634.4755403995514\n",
      "10.0 %\n",
      "Temps écoulé:  697.4289536476135\n",
      "11.0 %\n",
      "Temps écoulé:  761.0508213043213\n",
      "12.0 %\n",
      "Temps écoulé:  823.7621374130249\n",
      "13.0 %\n",
      "Temps écoulé:  879.305388212204\n",
      "14.0 %\n",
      "Temps écoulé:  930.658408164978\n",
      "15.0 %\n",
      "Temps écoulé:  981.8645815849304\n",
      "16.0 %\n",
      "Temps écoulé:  1032.9849407672882\n",
      "17.0 %\n",
      "Temps écoulé:  1084.2533004283905\n",
      "18.0 %\n",
      "Temps écoulé:  1135.3341159820557\n",
      "19.0 %\n",
      "Temps écoulé:  1186.6317615509033\n",
      "20.0 %\n",
      "Temps écoulé:  1237.864737033844\n",
      "21.0 %\n",
      "Temps écoulé:  1288.9822885990143\n",
      "22.0 %\n",
      "Temps écoulé:  1340.1898350715637\n",
      "23.0 %\n",
      "Temps écoulé:  1391.2443499565125\n",
      "24.0 %\n",
      "Temps écoulé:  1442.6925048828125\n",
      "25.0 %\n",
      "Temps écoulé:  1493.6738798618317\n",
      "26.0 %\n",
      "Temps écoulé:  1544.7561748027802\n",
      "27.0 %\n",
      "Temps écoulé:  1595.688597202301\n",
      "28.0 %\n",
      "Temps écoulé:  1646.6796338558197\n",
      "29.0 %\n",
      "Temps écoulé:  1697.930343389511\n",
      "30.0 %\n",
      "Temps écoulé:  1748.9270358085632\n",
      "31.0 %\n",
      "Temps écoulé:  1799.9069061279297\n",
      "32.0 %\n",
      "Temps écoulé:  1850.7653133869171\n",
      "33.0 %\n",
      "Temps écoulé:  1901.7465543746948\n",
      "34.0 %\n",
      "Temps écoulé:  1952.7580771446228\n",
      "35.0 %\n",
      "Temps écoulé:  2004.0874841213226\n",
      "36.0 %\n",
      "Temps écoulé:  2055.685334444046\n",
      "37.0 %\n",
      "Temps écoulé:  2107.141324043274\n",
      "38.0 %\n",
      "Temps écoulé:  2158.87410736084\n",
      "39.0 %\n",
      "Temps écoulé:  2210.606518507004\n",
      "40.0 %\n",
      "Temps écoulé:  2262.2605497837067\n",
      "41.0 %\n",
      "Temps écoulé:  2313.796707868576\n",
      "42.0 %\n",
      "Temps écoulé:  2365.4459867477417\n",
      "43.0 %\n",
      "Temps écoulé:  2417.2605278491974\n",
      "44.0 %\n",
      "Temps écoulé:  2468.8847091197968\n",
      "45.0 %\n",
      "Temps écoulé:  2520.5376958847046\n",
      "46.0 %\n",
      "Temps écoulé:  2572.0476744174957\n",
      "47.0 %\n",
      "Temps écoulé:  2623.716258764267\n",
      "48.0 %\n",
      "Temps écoulé:  2676.268128633499\n",
      "49.0 %\n",
      "Temps écoulé:  2728.0484371185303\n",
      "50.0 %\n",
      "Temps écoulé:  2779.703732252121\n",
      "51.0 %\n",
      "Temps écoulé:  2831.151527404785\n",
      "52.0 %\n",
      "Temps écoulé:  2882.324310064316\n",
      "53.0 %\n",
      "Temps écoulé:  2933.5988509655\n",
      "54.0 %\n",
      "Temps écoulé:  2984.851316690445\n",
      "55.0 %\n",
      "Temps écoulé:  3036.0018446445465\n",
      "56.0 %\n",
      "Temps écoulé:  3087.280722141266\n",
      "57.0 %\n",
      "Temps écoulé:  3138.6807684898376\n",
      "58.0 %\n",
      "Temps écoulé:  3189.9512271881104\n",
      "59.0 %\n",
      "Temps écoulé:  3241.3924531936646\n",
      "60.0 %\n",
      "Temps écoulé:  3292.4970643520355\n",
      "61.0 %\n",
      "Temps écoulé:  3343.7952432632446\n",
      "62.0 %\n",
      "Temps écoulé:  3395.124955177307\n",
      "63.0 %\n",
      "Temps écoulé:  3446.4151215553284\n",
      "64.0 %\n",
      "Temps écoulé:  3497.4432027339935\n",
      "65.0 %\n",
      "Temps écoulé:  3548.6408746242523\n",
      "66.0 %\n",
      "Temps écoulé:  3599.984753847122\n",
      "67.0 %\n",
      "Temps écoulé:  3651.2477242946625\n",
      "68.0 %\n",
      "Temps écoulé:  3702.563764333725\n",
      "69.0 %\n",
      "Temps écoulé:  3753.8080961704254\n",
      "70.0 %\n",
      "Temps écoulé:  3804.9503450393677\n",
      "71.0 %\n",
      "Temps écoulé:  3856.192005634308\n",
      "72.0 %\n",
      "Temps écoulé:  3907.3148884773254\n",
      "73.0 %\n",
      "Temps écoulé:  3958.5682270526886\n",
      "74.0 %\n",
      "Temps écoulé:  4010.1232414245605\n",
      "75.0 %\n",
      "Temps écoulé:  4061.476317882538\n",
      "76.0 %\n",
      "Temps écoulé:  4112.868802070618\n",
      "77.0 %\n",
      "Temps écoulé:  4164.390670776367\n",
      "78.0 %\n",
      "Temps écoulé:  4215.36904168129\n",
      "79.0 %\n",
      "Temps écoulé:  4266.254541635513\n",
      "80.0 %\n",
      "Temps écoulé:  4317.527083158493\n",
      "81.0 %\n",
      "Temps écoulé:  4368.663998126984\n",
      "82.0 %\n",
      "Temps écoulé:  4419.721647262573\n",
      "83.0 %\n",
      "Temps écoulé:  4470.998948812485\n",
      "84.0 %\n",
      "Temps écoulé:  4522.484407424927\n",
      "85.0 %\n",
      "Temps écoulé:  4573.6986384391785\n",
      "86.0 %\n",
      "Temps écoulé:  4624.910512924194\n",
      "87.0 %\n",
      "Temps écoulé:  4676.277706384659\n",
      "88.0 %\n",
      "Temps écoulé:  4727.48574757576\n",
      "89.0 %\n",
      "Temps écoulé:  4778.626371860504\n",
      "90.0 %\n",
      "Temps écoulé:  4829.992994785309\n",
      "91.0 %\n",
      "Temps écoulé:  4881.451231956482\n",
      "92.0 %\n",
      "Temps écoulé:  4932.725528001785\n",
      "93.0 %\n",
      "Temps écoulé:  4984.178956985474\n",
      "94.0 %\n",
      "Temps écoulé:  5035.766188621521\n",
      "95.0 %\n",
      "Temps écoulé:  5087.250559568405\n",
      "96.0 %\n",
      "Temps écoulé:  5138.75479722023\n",
      "97.0 %\n",
      "Temps écoulé:  5190.30822634697\n",
      "98.0 %\n",
      "Temps écoulé:  5241.709024190903\n",
      "99.0 %\n"
     ]
    },
    {
     "data": {
      "image/png": "[encoded data removed]",
      "text/plain": [
       "<Figure size 360x360 with 2 Axes>"
      ]
     },
     "metadata": {
      "needs_background": "light"
     },
     "output_type": "display_data"
    },
    {
     "name": "stdout",
     "output_type": "stream",
     "text": [
      "Temps d'exécution:  5293.422605276108\n"
     ]
    }
   ],
   "source": [
    "N= 100\n",
    "Field = np.linspace(-2, 2, N)\n",
    "Jonction = np.linspace(-2,2,N)\n",
    "T2 = np.zeros((N,N))\n",
    "start_time = time.time()\n",
    "for i, I in enumerate(Field):\n",
    "\n",
    "        print('Temps écoulé: ',time.time() - start_time)\n",
    "        phi = I * 3*np.sqrt(3)/(2) *alat**2\n",
    "        print(i*100/N, '%')\n",
    "        for j, B in enumerate(Jonction):\n",
    "            n = B\n",
    "            smatrix = kwant.smatrix(sys, energy = Ef) # transmission matrix (here this)\n",
    "            # In order to calculate the nonlocal conductance we eliminate one row and one column \n",
    "            # from the condutcance matrix. This amounts to setting the corresponding voltage to zero \n",
    "            # and using current conservation to calculate the current through the last terminal.\n",
    "            cm = smatrix.conductance_matrix()[:-1, :-1]\n",
    "        \n",
    "\n",
    "            n2 = np.linalg.solve(cm, [1, -1 , 0])[2]\n",
    "            T[i,j] = n2\n",
    "\n",
    "\n",
    "plt.contourf(Jonction, Field, T2);\n",
    "plt.colorbar()\n",
    "plt.show()\n",
    "interval = time.time() - start_time  \n",
    "print('Temps d\\'exécution: ', interval)"
   ]
  },
  {
   "cell_type": "code",
   "execution_count": 12,
   "metadata": {},
   "outputs": [
    {
     "ename": "NameError",
     "evalue": "name 'Jonction' is not defined",
     "output_type": "error",
     "traceback": [
      "\u001b[0;31m---------------------------------------------------------------------------\u001b[0m",
      "\u001b[0;31mNameError\u001b[0m                                 Traceback (most recent call last)",
      "\u001b[0;32m<ipython-input-12-ce1d9432fee3>\u001b[0m in \u001b[0;36m<module>\u001b[0;34m\u001b[0m\n\u001b[1;32m      1\u001b[0m \u001b[0mlevels\u001b[0m\u001b[0;34m=\u001b[0m\u001b[0mnp\u001b[0m\u001b[0;34m.\u001b[0m\u001b[0mlinspace\u001b[0m\u001b[0;34m(\u001b[0m\u001b[0;34m-\u001b[0m\u001b[0;36m0.4\u001b[0m\u001b[0;34m,\u001b[0m\u001b[0;36m0.4\u001b[0m\u001b[0;34m,\u001b[0m\u001b[0;36m50\u001b[0m\u001b[0;34m)\u001b[0m\u001b[0;34m\u001b[0m\u001b[0m\n\u001b[1;32m      2\u001b[0m \u001b[0;34m\u001b[0m\u001b[0m\n\u001b[0;32m----> 3\u001b[0;31m \u001b[0mplt\u001b[0m\u001b[0;34m.\u001b[0m\u001b[0mcontourf\u001b[0m\u001b[0;34m(\u001b[0m\u001b[0mJonction\u001b[0m\u001b[0;34m,\u001b[0m \u001b[0mField\u001b[0m\u001b[0;34m,\u001b[0m \u001b[0mT\u001b[0m\u001b[0;34m,\u001b[0m\u001b[0mlevels\u001b[0m\u001b[0;34m=\u001b[0m\u001b[0mlevels\u001b[0m\u001b[0;34m,\u001b[0m \u001b[0mcmap\u001b[0m\u001b[0;34m=\u001b[0m\u001b[0;34m'bwr'\u001b[0m\u001b[0;34m)\u001b[0m\u001b[0;34m;\u001b[0m\u001b[0;34m\u001b[0m\u001b[0m\n\u001b[0m\u001b[1;32m      4\u001b[0m \u001b[0mplt\u001b[0m\u001b[0;34m.\u001b[0m\u001b[0mcolorbar\u001b[0m\u001b[0;34m(\u001b[0m\u001b[0;34m)\u001b[0m\u001b[0;34m\u001b[0m\u001b[0m\n\u001b[1;32m      5\u001b[0m \u001b[0mplt\u001b[0m\u001b[0;34m.\u001b[0m\u001b[0mxlabel\u001b[0m\u001b[0;34m(\u001b[0m\u001b[0;34m\"Densité électronique\"\u001b[0m\u001b[0;34m)\u001b[0m\u001b[0;34m\u001b[0m\u001b[0m\n",
      "\u001b[0;31mNameError\u001b[0m: name 'Jonction' is not defined"
     ]
    }
   ],
   "source": [
    "levels=np.linspace(-0.4,0.4,50)\n",
    "\n",
    "plt.contourf(Jonction, Field, T,levels=levels, cmap='bwr');\n",
    "plt.colorbar()\n",
    "plt.xlabel(\"Densité électronique\")\n",
    "plt.ylabel(\"Champ magnétique\")\n",
    "\n",
    "plt.show()"
   ]
  },
  {
   "cell_type": "code",
   "execution_count": 54,
   "metadata": {},
   "outputs": [],
   "source": [
    "f = open('map.txt','a')\n",
    "f.write(str(Jonction))\n",
    "f.write('\\n Champ \\n')\n",
    "f.write(str( Field))\n",
    "f.write('\\n Transmission \\n')\n",
    "f.write(str(T))\n",
    "f.close()\n"
   ]
  },
  {
   "cell_type": "code",
   "execution_count": 314,
   "metadata": {},
   "outputs": [
    {
     "ename": "KeyboardInterrupt",
     "evalue": "",
     "output_type": "error",
     "traceback": [
      "\u001b[0;31m---------------------------------------------------------------------------\u001b[0m",
      "\u001b[0;31mKeyboardInterrupt\u001b[0m                         Traceback (most recent call last)",
      "\u001b[0;32m<ipython-input-314-eb57f492ea50>\u001b[0m in \u001b[0;36m<module>\u001b[0;34m\u001b[0m\n\u001b[1;32m      7\u001b[0m         \u001b[0;32mfor\u001b[0m \u001b[0mj\u001b[0m\u001b[0;34m,\u001b[0m \u001b[0mB\u001b[0m \u001b[0;32min\u001b[0m \u001b[0menumerate\u001b[0m\u001b[0;34m(\u001b[0m\u001b[0mField\u001b[0m\u001b[0;34m)\u001b[0m\u001b[0;34m:\u001b[0m\u001b[0;34m\u001b[0m\u001b[0m\n\u001b[1;32m      8\u001b[0m             \u001b[0mphi\u001b[0m \u001b[0;34m=\u001b[0m \u001b[0mB\u001b[0m \u001b[0;34m*\u001b[0m \u001b[0;36m3\u001b[0m\u001b[0;34m*\u001b[0m\u001b[0mnp\u001b[0m\u001b[0;34m.\u001b[0m\u001b[0msqrt\u001b[0m\u001b[0;34m(\u001b[0m\u001b[0;36m3\u001b[0m\u001b[0;34m)\u001b[0m\u001b[0;34m/\u001b[0m\u001b[0;34m(\u001b[0m\u001b[0;36m2\u001b[0m\u001b[0;34m)\u001b[0m \u001b[0;34m*\u001b[0m\u001b[0malat\u001b[0m\u001b[0;34m**\u001b[0m\u001b[0;36m2\u001b[0m\u001b[0;34m\u001b[0m\u001b[0m\n\u001b[0;32m----> 9\u001b[0;31m             \u001b[0msmatrix\u001b[0m \u001b[0;34m=\u001b[0m \u001b[0mkwant\u001b[0m\u001b[0;34m.\u001b[0m\u001b[0msmatrix\u001b[0m\u001b[0;34m(\u001b[0m\u001b[0msys\u001b[0m\u001b[0;34m,\u001b[0m \u001b[0menergy\u001b[0m \u001b[0;34m=\u001b[0m \u001b[0mEf\u001b[0m\u001b[0;34m)\u001b[0m \u001b[0;31m# transmission matrix (here this)\u001b[0m\u001b[0;34m\u001b[0m\u001b[0m\n\u001b[0m\u001b[1;32m     10\u001b[0m             \u001b[0mT2\u001b[0m \u001b[0;34m=\u001b[0m \u001b[0msmatrix\u001b[0m\u001b[0;34m.\u001b[0m\u001b[0mtransmission\u001b[0m\u001b[0;34m(\u001b[0m\u001b[0;36m2\u001b[0m\u001b[0;34m,\u001b[0m\u001b[0;36m0\u001b[0m\u001b[0;34m)\u001b[0m\u001b[0;34m\u001b[0m\u001b[0m\n\u001b[1;32m     11\u001b[0m             \u001b[0mT3\u001b[0m \u001b[0;34m=\u001b[0m \u001b[0msmatrix\u001b[0m\u001b[0;34m.\u001b[0m\u001b[0mtransmission\u001b[0m\u001b[0;34m(\u001b[0m\u001b[0;36m3\u001b[0m\u001b[0;34m,\u001b[0m\u001b[0;36m0\u001b[0m\u001b[0;34m)\u001b[0m\u001b[0;31m# transmission value obtained from the left lead towards the right lead\u001b[0m\u001b[0;34m\u001b[0m\u001b[0m\n",
      "\u001b[0;32m~/anaconda3/lib/python3.6/site-packages/kwant/solvers/common.py\u001b[0m in \u001b[0;36msmatrix\u001b[0;34m(self, sys, energy, args, out_leads, in_leads, check_hermiticity, params)\u001b[0m\n\u001b[1;32m    370\u001b[0m         linsys, lead_info = self._make_linear_sys(syst, in_leads, energy, args,\n\u001b[1;32m    371\u001b[0m                                                   \u001b[0mcheck_hermiticity\u001b[0m\u001b[0;34m,\u001b[0m \u001b[0;32mFalse\u001b[0m\u001b[0;34m,\u001b[0m\u001b[0;34m\u001b[0m\u001b[0m\n\u001b[0;32m--> 372\u001b[0;31m                                                   params=params)\n\u001b[0m\u001b[1;32m    373\u001b[0m \u001b[0;34m\u001b[0m\u001b[0m\n\u001b[1;32m    374\u001b[0m         kept_vars = np.concatenate([coords for i, coords in\n",
      "\u001b[0;32m~/anaconda3/lib/python3.6/site-packages/kwant/solvers/common.py\u001b[0m in \u001b[0;36m_make_linear_sys\u001b[0;34m(self, sys, in_leads, energy, args, check_hermiticity, realspace, params)\u001b[0m\n\u001b[1;32m    189\u001b[0m             \u001b[0mlead\u001b[0m \u001b[0;34m=\u001b[0m \u001b[0msyst\u001b[0m\u001b[0;34m.\u001b[0m\u001b[0mleads\u001b[0m\u001b[0;34m[\u001b[0m\u001b[0mleadnum\u001b[0m\u001b[0;34m]\u001b[0m\u001b[0;34m\u001b[0m\u001b[0m\n\u001b[1;32m    190\u001b[0m             \u001b[0;32mif\u001b[0m \u001b[0;32mnot\u001b[0m \u001b[0mrealspace\u001b[0m\u001b[0;34m:\u001b[0m\u001b[0;34m\u001b[0m\u001b[0m\n\u001b[0;32m--> 191\u001b[0;31m                 \u001b[0mprop\u001b[0m\u001b[0;34m,\u001b[0m \u001b[0mstab\u001b[0m \u001b[0;34m=\u001b[0m \u001b[0mlead\u001b[0m\u001b[0;34m.\u001b[0m\u001b[0mmodes\u001b[0m\u001b[0;34m(\u001b[0m\u001b[0menergy\u001b[0m\u001b[0;34m,\u001b[0m \u001b[0margs\u001b[0m\u001b[0;34m,\u001b[0m \u001b[0mparams\u001b[0m\u001b[0;34m=\u001b[0m\u001b[0mparams\u001b[0m\u001b[0;34m)\u001b[0m\u001b[0;34m\u001b[0m\u001b[0m\n\u001b[0m\u001b[1;32m    192\u001b[0m                 \u001b[0mlead_info\u001b[0m\u001b[0;34m.\u001b[0m\u001b[0mappend\u001b[0m\u001b[0;34m(\u001b[0m\u001b[0mprop\u001b[0m\u001b[0;34m)\u001b[0m\u001b[0;34m\u001b[0m\u001b[0m\n\u001b[1;32m    193\u001b[0m                 \u001b[0mu\u001b[0m \u001b[0;34m=\u001b[0m \u001b[0mstab\u001b[0m\u001b[0;34m.\u001b[0m\u001b[0mvecs\u001b[0m\u001b[0;34m\u001b[0m\u001b[0m\n",
      "\u001b[0;32m~/anaconda3/lib/python3.6/site-packages/kwant/system.py\u001b[0m in \u001b[0;36mmodes\u001b[0;34m(self, energy, args, params)\u001b[0m\n\u001b[1;32m    251\u001b[0m         \u001b[0;32mif\u001b[0m \u001b[0menergy\u001b[0m\u001b[0;34m:\u001b[0m\u001b[0;34m\u001b[0m\u001b[0m\n\u001b[1;32m    252\u001b[0m             \u001b[0msymmetries\u001b[0m\u001b[0;34m.\u001b[0m\u001b[0mparticle_hole\u001b[0m \u001b[0;34m=\u001b[0m \u001b[0msymmetries\u001b[0m\u001b[0;34m.\u001b[0m\u001b[0mchiral\u001b[0m \u001b[0;34m=\u001b[0m \u001b[0;32mNone\u001b[0m\u001b[0;34m\u001b[0m\u001b[0m\n\u001b[0;32m--> 253\u001b[0;31m         \u001b[0;32mreturn\u001b[0m \u001b[0mphysics\u001b[0m\u001b[0;34m.\u001b[0m\u001b[0mmodes\u001b[0m\u001b[0;34m(\u001b[0m\u001b[0mham\u001b[0m\u001b[0;34m,\u001b[0m \u001b[0mhop\u001b[0m\u001b[0;34m,\u001b[0m \u001b[0mdiscrete_symmetry\u001b[0m\u001b[0;34m=\u001b[0m\u001b[0msymmetries\u001b[0m\u001b[0;34m)\u001b[0m\u001b[0;34m\u001b[0m\u001b[0m\n\u001b[0m\u001b[1;32m    254\u001b[0m \u001b[0;34m\u001b[0m\u001b[0m\n\u001b[1;32m    255\u001b[0m     \u001b[0;32mdef\u001b[0m \u001b[0mselfenergy\u001b[0m\u001b[0;34m(\u001b[0m\u001b[0mself\u001b[0m\u001b[0;34m,\u001b[0m \u001b[0menergy\u001b[0m\u001b[0;34m=\u001b[0m\u001b[0;36m0\u001b[0m\u001b[0;34m,\u001b[0m \u001b[0margs\u001b[0m\u001b[0;34m=\u001b[0m\u001b[0;34m(\u001b[0m\u001b[0;34m)\u001b[0m\u001b[0;34m,\u001b[0m \u001b[0;34m*\u001b[0m\u001b[0;34m,\u001b[0m \u001b[0mparams\u001b[0m\u001b[0;34m=\u001b[0m\u001b[0;32mNone\u001b[0m\u001b[0;34m)\u001b[0m\u001b[0;34m:\u001b[0m\u001b[0;34m\u001b[0m\u001b[0m\n",
      "\u001b[0;32m~/anaconda3/lib/python3.6/site-packages/kwant/physics/leads.py\u001b[0m in \u001b[0;36mmodes\u001b[0;34m(h_cell, h_hop, tol, stabilization, discrete_symmetry, projectors, time_reversal, particle_hole, chiral)\u001b[0m\n\u001b[1;32m   1124\u001b[0m             \u001b[0;31m# We did not compute this block yet.\u001b[0m\u001b[0;34m\u001b[0m\u001b[0;34m\u001b[0m\u001b[0m\n\u001b[1;32m   1125\u001b[0m             block_modes[i] = compute_block_modes(h, t, tol, stabilization,\n\u001b[0;32m-> 1126\u001b[0;31m                                                  *symmetries)\n\u001b[0m\u001b[1;32m   1127\u001b[0m         \u001b[0;32melse\u001b[0m\u001b[0;34m:\u001b[0m\u001b[0;34m\u001b[0m\u001b[0m\n\u001b[1;32m   1128\u001b[0m             \u001b[0;32mif\u001b[0m \u001b[0mblock_modes\u001b[0m\u001b[0;34m[\u001b[0m\u001b[0mj\u001b[0m\u001b[0;34m]\u001b[0m \u001b[0;32mis\u001b[0m \u001b[0;32mnot\u001b[0m \u001b[0;32mNone\u001b[0m\u001b[0;34m:\u001b[0m\u001b[0;34m\u001b[0m\u001b[0m\n",
      "\u001b[0;32m~/anaconda3/lib/python3.6/site-packages/kwant/physics/leads.py\u001b[0m in \u001b[0;36mcompute_block_modes\u001b[0;34m(h_cell, h_hop, tol, stabilization, time_reversal, particle_hole, chiral)\u001b[0m\n\u001b[1;32m    904\u001b[0m     prop_vecs, real_space_data = make_proper_modes(ev[propselect], prop_vecs,\n\u001b[1;32m    905\u001b[0m                                                    \u001b[0mextract\u001b[0m\u001b[0;34m,\u001b[0m \u001b[0mtol\u001b[0m\u001b[0;34m,\u001b[0m \u001b[0mparticle_hole\u001b[0m\u001b[0;34m,\u001b[0m\u001b[0;34m\u001b[0m\u001b[0m\n\u001b[0;32m--> 906\u001b[0;31m                                                    time_reversal, chiral)\n\u001b[0m\u001b[1;32m    907\u001b[0m \u001b[0;34m\u001b[0m\u001b[0m\n\u001b[1;32m    908\u001b[0m     \u001b[0mvecs\u001b[0m \u001b[0;34m=\u001b[0m \u001b[0mnp\u001b[0m\u001b[0;34m.\u001b[0m\u001b[0mc_\u001b[0m\u001b[0;34m[\u001b[0m\u001b[0mprop_vecs\u001b[0m\u001b[0;34m[\u001b[0m\u001b[0mn\u001b[0m\u001b[0;34m:\u001b[0m\u001b[0;34m]\u001b[0m\u001b[0;34m,\u001b[0m \u001b[0mevan_vecs\u001b[0m\u001b[0;34m[\u001b[0m\u001b[0mn\u001b[0m\u001b[0;34m:\u001b[0m\u001b[0;34m]\u001b[0m\u001b[0;34m]\u001b[0m\u001b[0;34m\u001b[0m\u001b[0m\n",
      "\u001b[0;32m~/anaconda3/lib/python3.6/site-packages/kwant/physics/leads.py\u001b[0m in \u001b[0;36mmake_proper_modes\u001b[0;34m(lmbdainv, psi, extract, tol, particle_hole, time_reversal, chiral)\u001b[0m\n\u001b[1;32m    690\u001b[0m \u001b[0;34m\u001b[0m\u001b[0m\n\u001b[1;32m    691\u001b[0m         \u001b[0mfull_psi\u001b[0m\u001b[0;34m[\u001b[0m\u001b[0;34m:\u001b[0m\u001b[0;34m,\u001b[0m \u001b[0mindx\u001b[0m\u001b[0;34m]\u001b[0m \u001b[0;34m=\u001b[0m \u001b[0mq\u001b[0m\u001b[0;34m\u001b[0m\u001b[0m\n\u001b[0;32m--> 692\u001b[0;31m         \u001b[0mpsi\u001b[0m\u001b[0;34m[\u001b[0m\u001b[0;34m:\u001b[0m\u001b[0;34m,\u001b[0m \u001b[0mindx\u001b[0m\u001b[0;34m]\u001b[0m \u001b[0;34m=\u001b[0m \u001b[0mla\u001b[0m\u001b[0;34m.\u001b[0m\u001b[0msolve\u001b[0m\u001b[0;34m(\u001b[0m\u001b[0mr\u001b[0m\u001b[0;34m.\u001b[0m\u001b[0mT\u001b[0m\u001b[0;34m,\u001b[0m \u001b[0mpsi\u001b[0m\u001b[0;34m[\u001b[0m\u001b[0;34m:\u001b[0m\u001b[0;34m,\u001b[0m \u001b[0mindx\u001b[0m\u001b[0;34m]\u001b[0m\u001b[0;34m.\u001b[0m\u001b[0mT\u001b[0m\u001b[0;34m)\u001b[0m\u001b[0;34m.\u001b[0m\u001b[0mT\u001b[0m\u001b[0;34m\u001b[0m\u001b[0m\n\u001b[0m\u001b[1;32m    693\u001b[0m \u001b[0;34m\u001b[0m\u001b[0m\n\u001b[1;32m    694\u001b[0m         \u001b[0;31m# 2. Moving infinitesimally away from the degeneracy\u001b[0m\u001b[0;34m\u001b[0m\u001b[0;34m\u001b[0m\u001b[0m\n",
      "\u001b[0;32m~/anaconda3/lib/python3.6/site-packages/scipy/linalg/basic.py\u001b[0m in \u001b[0;36msolve\u001b[0;34m(a, b, sym_pos, lower, overwrite_a, overwrite_b, debug, check_finite, assume_a, transposed)\u001b[0m\n\u001b[1;32m    216\u001b[0m         \u001b[0m_solve_check\u001b[0m\u001b[0;34m(\u001b[0m\u001b[0mn\u001b[0m\u001b[0;34m,\u001b[0m \u001b[0minfo\u001b[0m\u001b[0;34m)\u001b[0m\u001b[0;34m\u001b[0m\u001b[0m\n\u001b[1;32m    217\u001b[0m         x, info = getrs(lu, ipvt, b1,\n\u001b[0;32m--> 218\u001b[0;31m                         trans=trans, overwrite_b=overwrite_b)\n\u001b[0m\u001b[1;32m    219\u001b[0m         \u001b[0m_solve_check\u001b[0m\u001b[0;34m(\u001b[0m\u001b[0mn\u001b[0m\u001b[0;34m,\u001b[0m \u001b[0minfo\u001b[0m\u001b[0;34m)\u001b[0m\u001b[0;34m\u001b[0m\u001b[0m\n\u001b[1;32m    220\u001b[0m         \u001b[0mrcond\u001b[0m\u001b[0;34m,\u001b[0m \u001b[0minfo\u001b[0m \u001b[0;34m=\u001b[0m \u001b[0mgecon\u001b[0m\u001b[0;34m(\u001b[0m\u001b[0mlu\u001b[0m\u001b[0;34m,\u001b[0m \u001b[0manorm\u001b[0m\u001b[0;34m,\u001b[0m \u001b[0mnorm\u001b[0m\u001b[0;34m=\u001b[0m\u001b[0mnorm\u001b[0m\u001b[0;34m)\u001b[0m\u001b[0;34m\u001b[0m\u001b[0m\n",
      "\u001b[0;31mKeyboardInterrupt\u001b[0m: "
     ]
    }
   ],
   "source": [
    "N= 50\n",
    "Field = np.linspace(0, -2, N)\n",
    "Jonction = np.linspace(-1,1,N)\n",
    "T = np.zeros((N,N))\n",
    "for i, I in enumerate(Jonction):\n",
    "        n = I\n",
    "        for j, B in enumerate(Field):\n",
    "            phi = B * 3*np.sqrt(3)/(2) *alat**2\n",
    "            smatrix = kwant.smatrix(sys, energy = Ef) # transmission matrix (here this)\n",
    "            T2 = smatrix.transmission(2,0)\n",
    "            T3 = smatrix.transmission(3,0)# transmission value obtained from the left lead towards the right lead\n",
    "            T[i,j] = T2-T3\n",
    "X = Jonction\n",
    "Y = Field\n",
    "plt.contourf(Jonction, Field, T)\n",
    "    \n",
    "    "
   ]
  }
 ],
 "metadata": {
  "kernelspec": {
   "display_name": "Python 3",
   "language": "python",
   "name": "python3"
  },
  "language_info": {
   "codemirror_mode": {
    "name": "ipython",
    "version": 3
   },
   "file_extension": ".py",
   "mimetype": "text/x-python",
   "name": "python",
   "nbconvert_exporter": "python",
   "pygments_lexer": "ipython3",
   "version": "3.6.6"
  }
 },
 "nbformat": 4,
 "nbformat_minor": 2
}
